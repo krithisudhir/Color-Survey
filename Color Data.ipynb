{
 "cells": [
  {
   "cell_type": "code",
   "execution_count": 1,
   "id": "680553b7",
   "metadata": {},
   "outputs": [],
   "source": [
    "import pandas as pd"
   ]
  },
  {
   "cell_type": "code",
   "execution_count": 2,
   "id": "cc54feb4",
   "metadata": {},
   "outputs": [],
   "source": [
    "#Import CSV file into a dataframe called color_responses\n",
    "color_responses=pd.read_csv('Color (Responses) - Form responses 1.csv')"
   ]
  },
  {
   "cell_type": "code",
   "execution_count": 3,
   "id": "673afafa",
   "metadata": {
    "scrolled": false
   },
   "outputs": [
    {
     "data": {
      "text/html": [
       "<div>\n",
       "<style scoped>\n",
       "    .dataframe tbody tr th:only-of-type {\n",
       "        vertical-align: middle;\n",
       "    }\n",
       "\n",
       "    .dataframe tbody tr th {\n",
       "        vertical-align: top;\n",
       "    }\n",
       "\n",
       "    .dataframe thead th {\n",
       "        text-align: right;\n",
       "    }\n",
       "</style>\n",
       "<table border=\"1\" class=\"dataframe\">\n",
       "  <thead>\n",
       "    <tr style=\"text-align: right;\">\n",
       "      <th></th>\n",
       "      <th>Timestamp</th>\n",
       "      <th>What’s your favourite color?</th>\n",
       "    </tr>\n",
       "  </thead>\n",
       "  <tbody>\n",
       "    <tr>\n",
       "      <th>0</th>\n",
       "      <td>17/01/2022 08:12:10</td>\n",
       "      <td>Brown</td>\n",
       "    </tr>\n",
       "    <tr>\n",
       "      <th>1</th>\n",
       "      <td>17/01/2022 08:17:48</td>\n",
       "      <td>Red</td>\n",
       "    </tr>\n",
       "    <tr>\n",
       "      <th>2</th>\n",
       "      <td>17/01/2022 08:23:02</td>\n",
       "      <td>Blue</td>\n",
       "    </tr>\n",
       "    <tr>\n",
       "      <th>3</th>\n",
       "      <td>17/01/2022 08:23:07</td>\n",
       "      <td>Black</td>\n",
       "    </tr>\n",
       "    <tr>\n",
       "      <th>4</th>\n",
       "      <td>17/01/2022 08:23:12</td>\n",
       "      <td>Blue</td>\n",
       "    </tr>\n",
       "  </tbody>\n",
       "</table>\n",
       "</div>"
      ],
      "text/plain": [
       "             Timestamp What’s your favourite color?\n",
       "0  17/01/2022 08:12:10                       Brown \n",
       "1  17/01/2022 08:17:48                          Red\n",
       "2  17/01/2022 08:23:02                         Blue\n",
       "3  17/01/2022 08:23:07                        Black\n",
       "4  17/01/2022 08:23:12                         Blue"
      ]
     },
     "execution_count": 3,
     "metadata": {},
     "output_type": "execute_result"
    }
   ],
   "source": [
    "#head() displacys the first 5 rows of the dataframe by default; use head(10) to display 10 rows\n",
    "color_responses.head()"
   ]
  },
  {
   "cell_type": "code",
   "execution_count": 4,
   "id": "a8295abd",
   "metadata": {},
   "outputs": [],
   "source": [
    "#drop() is used to delete a column that may not be required for analysis\n",
    "color_responses.drop('Timestamp',axis=1,inplace=True)"
   ]
  },
  {
   "cell_type": "code",
   "execution_count": 5,
   "id": "e116a493",
   "metadata": {
    "scrolled": true
   },
   "outputs": [
    {
     "data": {
      "text/html": [
       "<div>\n",
       "<style scoped>\n",
       "    .dataframe tbody tr th:only-of-type {\n",
       "        vertical-align: middle;\n",
       "    }\n",
       "\n",
       "    .dataframe tbody tr th {\n",
       "        vertical-align: top;\n",
       "    }\n",
       "\n",
       "    .dataframe thead th {\n",
       "        text-align: right;\n",
       "    }\n",
       "</style>\n",
       "<table border=\"1\" class=\"dataframe\">\n",
       "  <thead>\n",
       "    <tr style=\"text-align: right;\">\n",
       "      <th></th>\n",
       "      <th>What’s your favourite color?</th>\n",
       "    </tr>\n",
       "  </thead>\n",
       "  <tbody>\n",
       "    <tr>\n",
       "      <th>0</th>\n",
       "      <td>Brown</td>\n",
       "    </tr>\n",
       "    <tr>\n",
       "      <th>1</th>\n",
       "      <td>Red</td>\n",
       "    </tr>\n",
       "    <tr>\n",
       "      <th>2</th>\n",
       "      <td>Blue</td>\n",
       "    </tr>\n",
       "    <tr>\n",
       "      <th>3</th>\n",
       "      <td>Black</td>\n",
       "    </tr>\n",
       "    <tr>\n",
       "      <th>4</th>\n",
       "      <td>Blue</td>\n",
       "    </tr>\n",
       "  </tbody>\n",
       "</table>\n",
       "</div>"
      ],
      "text/plain": [
       "  What’s your favourite color?\n",
       "0                       Brown \n",
       "1                          Red\n",
       "2                         Blue\n",
       "3                        Black\n",
       "4                         Blue"
      ]
     },
     "execution_count": 5,
     "metadata": {},
     "output_type": "execute_result"
    }
   ],
   "source": [
    "color_responses.head()"
   ]
  },
  {
   "cell_type": "code",
   "execution_count": 6,
   "id": "8a6860d8",
   "metadata": {},
   "outputs": [],
   "source": [
    "#Let's rename the column to something more meaningful\n",
    "color_responses.rename({'What’s your favourite color?':'fav_color'},axis=1,inplace=True)"
   ]
  },
  {
   "cell_type": "code",
   "execution_count": 7,
   "id": "f29ac3de",
   "metadata": {
    "scrolled": false
   },
   "outputs": [
    {
     "data": {
      "text/html": [
       "<div>\n",
       "<style scoped>\n",
       "    .dataframe tbody tr th:only-of-type {\n",
       "        vertical-align: middle;\n",
       "    }\n",
       "\n",
       "    .dataframe tbody tr th {\n",
       "        vertical-align: top;\n",
       "    }\n",
       "\n",
       "    .dataframe thead th {\n",
       "        text-align: right;\n",
       "    }\n",
       "</style>\n",
       "<table border=\"1\" class=\"dataframe\">\n",
       "  <thead>\n",
       "    <tr style=\"text-align: right;\">\n",
       "      <th></th>\n",
       "      <th>fav_color</th>\n",
       "    </tr>\n",
       "  </thead>\n",
       "  <tbody>\n",
       "    <tr>\n",
       "      <th>0</th>\n",
       "      <td>Brown</td>\n",
       "    </tr>\n",
       "    <tr>\n",
       "      <th>1</th>\n",
       "      <td>Red</td>\n",
       "    </tr>\n",
       "    <tr>\n",
       "      <th>2</th>\n",
       "      <td>Blue</td>\n",
       "    </tr>\n",
       "    <tr>\n",
       "      <th>3</th>\n",
       "      <td>Black</td>\n",
       "    </tr>\n",
       "    <tr>\n",
       "      <th>4</th>\n",
       "      <td>Blue</td>\n",
       "    </tr>\n",
       "  </tbody>\n",
       "</table>\n",
       "</div>"
      ],
      "text/plain": [
       "  fav_color\n",
       "0    Brown \n",
       "1       Red\n",
       "2      Blue\n",
       "3     Black\n",
       "4      Blue"
      ]
     },
     "execution_count": 7,
     "metadata": {},
     "output_type": "execute_result"
    }
   ],
   "source": [
    "color_responses.head()"
   ]
  },
  {
   "cell_type": "code",
   "execution_count": 8,
   "id": "fd3620ba",
   "metadata": {},
   "outputs": [
    {
     "data": {
      "text/plain": [
       "Blue                                                     13\n",
       "Black                                                    10\n",
       "Purple                                                    4\n",
       "Red                                                       3\n",
       "White                                                     3\n",
       "Green                                                     2\n",
       "Yellow                                                    2\n",
       "green                                                     1\n",
       "black                                                     1\n",
       "Pink                                                      1\n",
       "Yellow                                                    1\n",
       "Any neon colours                                          1\n",
       "Blue                                                      1\n",
       "Dark blue                                                 1\n",
       "Black (when there is no choice black enters and wins)     1\n",
       "Black                                                     1\n",
       "Pink                                                      1\n",
       "Blue and white                                            1\n",
       "Teal and turquoise                                        1\n",
       "White.                                                    1\n",
       "Brown                                                     1\n",
       "Off white                                                 1\n",
       "Name: fav_color, dtype: int64"
      ]
     },
     "execution_count": 8,
     "metadata": {},
     "output_type": "execute_result"
    }
   ],
   "source": [
    "#Use df['column name'].value_counts() to get the frequency or count of the number of times each value in the column appears\n",
    "color_responses['fav_color'].value_counts()"
   ]
  },
  {
   "cell_type": "code",
   "execution_count": 9,
   "id": "160039ae",
   "metadata": {},
   "outputs": [],
   "source": [
    "'''One of Python's libraries for data visulaization; \n",
    "If it is unavailable in your system, use !pip install seaborn in the cell and execute'''\n",
    "import seaborn as sns"
   ]
  },
  {
   "cell_type": "code",
   "execution_count": 10,
   "id": "dbac6ec1",
   "metadata": {
    "scrolled": false
   },
   "outputs": [
    {
     "data": {
      "text/plain": [
       "<AxesSubplot:xlabel='fav_color', ylabel='count'>"
      ]
     },
     "execution_count": 10,
     "metadata": {},
     "output_type": "execute_result"
    },
    {
     "data": {
      "image/png": "[encoded data removed]",
      "text/plain": [
       "<Figure size 432x288 with 1 Axes>"
      ]
     },
     "metadata": {
      "needs_background": "light"
     },
     "output_type": "display_data"
    }
   ],
   "source": [
    "#Visualize color prefernce using a count plot (essentially does the same thing as value_counts() but in graph form)\n",
    "sns.countplot(x='fav_color',data=color_responses)"
   ]
  },
  {
   "cell_type": "code",
   "execution_count": 11,
   "id": "7494668c",
   "metadata": {},
   "outputs": [
    {
     "data": {
      "text/plain": [
       "<AxesSubplot:xlabel='fav_color', ylabel='count'>"
      ]
     },
     "execution_count": 11,
     "metadata": {},
     "output_type": "execute_result"
    },
    {
     "data": {
      "image/png": "[encoded data removed]",
      "text/plain": [
       "<Figure size 432x288 with 1 Axes>"
      ]
     },
     "metadata": {
      "needs_background": "light"
     },
     "output_type": "display_data"
    }
   ],
   "source": [
    "#to get a cleaner image and prevent overlapping labels, use the set_xticklables() function and specify by how much the text should be rotated\n",
    "ct_plot=sns.countplot(x='fav_color',data=color_responses)\n",
    "ct_plot.set_xticklabels(ct_plot.get_xticklabels(),rotation=90)\n",
    "ct_plot"
   ]
  },
  {
   "cell_type": "code",
   "execution_count": 12,
   "id": "fa7315db",
   "metadata": {},
   "outputs": [
    {
     "data": {
      "text/plain": [
       "fav_color    22\n",
       "dtype: int64"
      ]
     },
     "execution_count": 12,
     "metadata": {},
     "output_type": "execute_result"
    }
   ],
   "source": [
    "#How many unique resposes are there?\n",
    "color_responses.nunique()"
   ]
  },
  {
   "cell_type": "code",
   "execution_count": 13,
   "id": "640a077e",
   "metadata": {},
   "outputs": [],
   "source": [
    "#Eliminate leading or training spaces for values in the 'fav_color' column by using strip()\n",
    "color_responses['fav_color']=color_responses['fav_color'].str.strip()"
   ]
  },
  {
   "cell_type": "code",
   "execution_count": 14,
   "id": "5b7ccb9f",
   "metadata": {},
   "outputs": [
    {
     "data": {
      "text/plain": [
       "fav_color    18\n",
       "dtype: int64"
      ]
     },
     "execution_count": 14,
     "metadata": {},
     "output_type": "execute_result"
    }
   ],
   "source": [
    "#How many unique responses do we have now?\n",
    "color_responses.nunique()"
   ]
  },
  {
   "cell_type": "code",
   "execution_count": 15,
   "id": "648a318c",
   "metadata": {},
   "outputs": [],
   "source": [
    "#Convert all text to upper case\n",
    "color_responses['fav_color']=color_responses['fav_color'].str.upper()"
   ]
  },
  {
   "cell_type": "code",
   "execution_count": 16,
   "id": "ea9ae4c7",
   "metadata": {},
   "outputs": [
    {
     "data": {
      "text/plain": [
       "fav_color    16\n",
       "dtype: int64"
      ]
     },
     "execution_count": 16,
     "metadata": {},
     "output_type": "execute_result"
    }
   ],
   "source": [
    "#How many unique responses do we have now?\n",
    "#a couple of bad responses have been eliminated\n",
    "color_responses.nunique()"
   ]
  },
  {
   "cell_type": "code",
   "execution_count": 17,
   "id": "cca2a7cd",
   "metadata": {
    "scrolled": true
   },
   "outputs": [
    {
     "data": {
      "text/plain": [
       "fav_color                                            \n",
       "BLUE                                                     14\n",
       "BLACK                                                    12\n",
       "PURPLE                                                    4\n",
       "GREEN                                                     3\n",
       "RED                                                       3\n",
       "WHITE                                                     3\n",
       "YELLOW                                                    3\n",
       "PINK                                                      2\n",
       "ANY NEON COLOURS                                          1\n",
       "BLACK (WHEN THERE IS NO CHOICE BLACK ENTERS AND WINS)     1\n",
       "BLUE AND WHITE                                            1\n",
       "BROWN                                                     1\n",
       "DARK BLUE                                                 1\n",
       "OFF WHITE                                                 1\n",
       "TEAL AND TURQUOISE                                        1\n",
       "WHITE.                                                    1\n",
       "dtype: int64"
      ]
     },
     "execution_count": 17,
     "metadata": {},
     "output_type": "execute_result"
    }
   ],
   "source": [
    "color_responses.value_counts()"
   ]
  },
  {
   "cell_type": "code",
   "execution_count": 18,
   "id": "d8ad3634",
   "metadata": {},
   "outputs": [],
   "source": [
    "#We need to separate every word in the data to be able to extract just the color\n",
    "#Let's first convert the dataframe column into a list \n",
    "response_words = list(x for x in color_responses[\"fav_color\"])"
   ]
  },
  {
   "cell_type": "code",
   "execution_count": 19,
   "id": "a7f28aa0",
   "metadata": {},
   "outputs": [
    {
     "data": {
      "text/plain": [
       "['BROWN',\n",
       " 'RED',\n",
       " 'BLUE',\n",
       " 'BLACK',\n",
       " 'BLUE',\n",
       " 'BLUE',\n",
       " 'BLUE AND WHITE',\n",
       " 'GREEN',\n",
       " 'PINK',\n",
       " 'YELLOW',\n",
       " 'BLUE',\n",
       " 'PURPLE',\n",
       " 'BLUE',\n",
       " 'PINK',\n",
       " 'GREEN',\n",
       " 'WHITE',\n",
       " 'BLACK',\n",
       " 'BLACK',\n",
       " 'BLACK',\n",
       " 'PURPLE',\n",
       " 'WHITE',\n",
       " 'YELLOW',\n",
       " 'OFF WHITE',\n",
       " 'BLACK',\n",
       " 'WHITE',\n",
       " 'DARK BLUE',\n",
       " 'PURPLE',\n",
       " 'BLUE',\n",
       " 'TEAL AND TURQUOISE',\n",
       " 'BLUE',\n",
       " 'BLUE',\n",
       " 'ANY NEON COLOURS',\n",
       " 'BLACK',\n",
       " 'RED',\n",
       " 'BLACK',\n",
       " 'PURPLE',\n",
       " 'WHITE.',\n",
       " 'YELLOW',\n",
       " 'BLUE',\n",
       " 'BLACK (WHEN THERE IS NO CHOICE BLACK ENTERS AND WINS)',\n",
       " 'BLACK',\n",
       " 'BLUE',\n",
       " 'GREEN',\n",
       " 'BLUE',\n",
       " 'BLACK',\n",
       " 'BLUE',\n",
       " 'BLUE',\n",
       " 'BLACK',\n",
       " 'RED',\n",
       " 'BLACK',\n",
       " 'BLUE',\n",
       " 'BLACK']"
      ]
     },
     "execution_count": 19,
     "metadata": {},
     "output_type": "execute_result"
    }
   ],
   "source": [
    "response_words"
   ]
  },
  {
   "cell_type": "code",
   "execution_count": 20,
   "id": "7afd160a",
   "metadata": {},
   "outputs": [],
   "source": [
    "#for every item/phrase in the list, if the word contains a space \" \", split it into corresponding words and store it in a variable called colors\n",
    "colors=[]\n",
    "for i in response_words:\n",
    "    colors+=i.split(\" \")"
   ]
  },
  {
   "cell_type": "code",
   "execution_count": 21,
   "id": "b4dc3379",
   "metadata": {},
   "outputs": [
    {
     "data": {
      "text/plain": [
       "['BROWN',\n",
       " 'RED',\n",
       " 'BLUE',\n",
       " 'BLACK',\n",
       " 'BLUE',\n",
       " 'BLUE',\n",
       " 'BLUE',\n",
       " 'AND',\n",
       " 'WHITE',\n",
       " 'GREEN',\n",
       " 'PINK',\n",
       " 'YELLOW',\n",
       " 'BLUE',\n",
       " 'PURPLE',\n",
       " 'BLUE',\n",
       " 'PINK',\n",
       " 'GREEN',\n",
       " 'WHITE',\n",
       " 'BLACK',\n",
       " 'BLACK',\n",
       " 'BLACK',\n",
       " 'PURPLE',\n",
       " 'WHITE',\n",
       " 'YELLOW',\n",
       " 'OFF',\n",
       " 'WHITE',\n",
       " 'BLACK',\n",
       " 'WHITE',\n",
       " 'DARK',\n",
       " 'BLUE',\n",
       " 'PURPLE',\n",
       " 'BLUE',\n",
       " 'TEAL',\n",
       " 'AND',\n",
       " 'TURQUOISE',\n",
       " 'BLUE',\n",
       " 'BLUE',\n",
       " 'ANY',\n",
       " 'NEON',\n",
       " 'COLOURS',\n",
       " 'BLACK',\n",
       " 'RED',\n",
       " 'BLACK',\n",
       " 'PURPLE',\n",
       " 'WHITE.',\n",
       " 'YELLOW',\n",
       " 'BLUE',\n",
       " 'BLACK',\n",
       " '(WHEN',\n",
       " 'THERE',\n",
       " 'IS',\n",
       " 'NO',\n",
       " 'CHOICE',\n",
       " 'BLACK',\n",
       " 'ENTERS',\n",
       " 'AND',\n",
       " 'WINS)',\n",
       " 'BLACK',\n",
       " 'BLUE',\n",
       " 'GREEN',\n",
       " 'BLUE',\n",
       " 'BLACK',\n",
       " 'BLUE',\n",
       " 'BLUE',\n",
       " 'BLACK',\n",
       " 'RED',\n",
       " 'BLACK',\n",
       " 'BLUE',\n",
       " 'BLACK']"
      ]
     },
     "execution_count": 21,
     "metadata": {},
     "output_type": "execute_result"
    }
   ],
   "source": [
    "#display the new list of words\n",
    "colors"
   ]
  },
  {
   "cell_type": "code",
   "execution_count": 22,
   "id": "604aa140",
   "metadata": {},
   "outputs": [],
   "source": [
    "#convert this list back into a dataframe with one column\n",
    "color_responses = pd.DataFrame({'Colors':colors})"
   ]
  },
  {
   "cell_type": "code",
   "execution_count": 23,
   "id": "c84b5b30",
   "metadata": {
    "scrolled": true
   },
   "outputs": [
    {
     "data": {
      "text/html": [
       "<div>\n",
       "<style scoped>\n",
       "    .dataframe tbody tr th:only-of-type {\n",
       "        vertical-align: middle;\n",
       "    }\n",
       "\n",
       "    .dataframe tbody tr th {\n",
       "        vertical-align: top;\n",
       "    }\n",
       "\n",
       "    .dataframe thead th {\n",
       "        text-align: right;\n",
       "    }\n",
       "</style>\n",
       "<table border=\"1\" class=\"dataframe\">\n",
       "  <thead>\n",
       "    <tr style=\"text-align: right;\">\n",
       "      <th></th>\n",
       "      <th>Colors</th>\n",
       "    </tr>\n",
       "  </thead>\n",
       "  <tbody>\n",
       "    <tr>\n",
       "      <th>0</th>\n",
       "      <td>BROWN</td>\n",
       "    </tr>\n",
       "    <tr>\n",
       "      <th>1</th>\n",
       "      <td>RED</td>\n",
       "    </tr>\n",
       "    <tr>\n",
       "      <th>2</th>\n",
       "      <td>BLUE</td>\n",
       "    </tr>\n",
       "    <tr>\n",
       "      <th>3</th>\n",
       "      <td>BLACK</td>\n",
       "    </tr>\n",
       "    <tr>\n",
       "      <th>4</th>\n",
       "      <td>BLUE</td>\n",
       "    </tr>\n",
       "  </tbody>\n",
       "</table>\n",
       "</div>"
      ],
      "text/plain": [
       "  Colors\n",
       "0  BROWN\n",
       "1    RED\n",
       "2   BLUE\n",
       "3  BLACK\n",
       "4   BLUE"
      ]
     },
     "execution_count": 23,
     "metadata": {},
     "output_type": "execute_result"
    }
   ],
   "source": [
    "color_responses.head()"
   ]
  },
  {
   "cell_type": "code",
   "execution_count": 24,
   "id": "8b72f3d9",
   "metadata": {
    "scrolled": true
   },
   "outputs": [
    {
     "data": {
      "text/html": [
       "<div>\n",
       "<style scoped>\n",
       "    .dataframe tbody tr th:only-of-type {\n",
       "        vertical-align: middle;\n",
       "    }\n",
       "\n",
       "    .dataframe tbody tr th {\n",
       "        vertical-align: top;\n",
       "    }\n",
       "\n",
       "    .dataframe thead th {\n",
       "        text-align: right;\n",
       "    }\n",
       "</style>\n",
       "<table border=\"1\" class=\"dataframe\">\n",
       "  <thead>\n",
       "    <tr style=\"text-align: right;\">\n",
       "      <th></th>\n",
       "      <th>Colors</th>\n",
       "    </tr>\n",
       "  </thead>\n",
       "  <tbody>\n",
       "    <tr>\n",
       "      <th>count</th>\n",
       "      <td>69</td>\n",
       "    </tr>\n",
       "    <tr>\n",
       "      <th>unique</th>\n",
       "      <td>25</td>\n",
       "    </tr>\n",
       "    <tr>\n",
       "      <th>top</th>\n",
       "      <td>BLUE</td>\n",
       "    </tr>\n",
       "    <tr>\n",
       "      <th>freq</th>\n",
       "      <td>16</td>\n",
       "    </tr>\n",
       "  </tbody>\n",
       "</table>\n",
       "</div>"
      ],
      "text/plain": [
       "       Colors\n",
       "count      69\n",
       "unique     25\n",
       "top      BLUE\n",
       "freq       16"
      ]
     },
     "execution_count": 24,
     "metadata": {},
     "output_type": "execute_result"
    }
   ],
   "source": [
    "#describe() function also outputs the count, unique count, and the most frequently occuring item in the dataframe (BLUE)\n",
    "color_responses.describe()"
   ]
  },
  {
   "cell_type": "code",
   "execution_count": 25,
   "id": "fefaea5c",
   "metadata": {},
   "outputs": [],
   "source": [
    "#Use regular expressions to remove any non-alphanumeric characters like period, comma, brackets etc.\n",
    "import re\n",
    "color_responses=color_responses['Colors'].apply(lambda x: re.sub(\"[^A-Z]+\", \"\", x))"
   ]
  },
  {
   "cell_type": "code",
   "execution_count": 26,
   "id": "8d0893a9",
   "metadata": {},
   "outputs": [
    {
     "data": {
      "text/plain": [
       "count       69\n",
       "unique      24\n",
       "top       BLUE\n",
       "freq        16\n",
       "Name: Colors, dtype: object"
      ]
     },
     "execution_count": 26,
     "metadata": {},
     "output_type": "execute_result"
    }
   ],
   "source": [
    "#check if anything's changed - reduced unique count by 1\n",
    "color_responses.describe()"
   ]
  },
  {
   "cell_type": "code",
   "execution_count": 27,
   "id": "3e979d1c",
   "metadata": {},
   "outputs": [],
   "source": [
    "#we can use sql syntax on dataframes with the pandsql library\n",
    "#we will use sql to remove any non-color words from the dataframe\n",
    "import pandasql as ps\n",
    "color_responses=ps.sqldf(\"select * from color_responses where colors not \\\n",
    "in ('AND','ANY','OFF','THERE','WHEN','CHOICE','WINS','IS','COLOURS','NO','ENTERS','DARK') \")"
   ]
  },
  {
   "cell_type": "code",
   "execution_count": 28,
   "id": "17fddc65",
   "metadata": {
    "scrolled": false
   },
   "outputs": [
    {
     "data": {
      "text/html": [
       "<div>\n",
       "<style scoped>\n",
       "    .dataframe tbody tr th:only-of-type {\n",
       "        vertical-align: middle;\n",
       "    }\n",
       "\n",
       "    .dataframe tbody tr th {\n",
       "        vertical-align: top;\n",
       "    }\n",
       "\n",
       "    .dataframe thead th {\n",
       "        text-align: right;\n",
       "    }\n",
       "</style>\n",
       "<table border=\"1\" class=\"dataframe\">\n",
       "  <thead>\n",
       "    <tr style=\"text-align: right;\">\n",
       "      <th></th>\n",
       "      <th>Colors</th>\n",
       "    </tr>\n",
       "  </thead>\n",
       "  <tbody>\n",
       "    <tr>\n",
       "      <th>0</th>\n",
       "      <td>BROWN</td>\n",
       "    </tr>\n",
       "    <tr>\n",
       "      <th>1</th>\n",
       "      <td>RED</td>\n",
       "    </tr>\n",
       "    <tr>\n",
       "      <th>2</th>\n",
       "      <td>BLUE</td>\n",
       "    </tr>\n",
       "    <tr>\n",
       "      <th>3</th>\n",
       "      <td>BLACK</td>\n",
       "    </tr>\n",
       "    <tr>\n",
       "      <th>4</th>\n",
       "      <td>BLUE</td>\n",
       "    </tr>\n",
       "  </tbody>\n",
       "</table>\n",
       "</div>"
      ],
      "text/plain": [
       "  Colors\n",
       "0  BROWN\n",
       "1    RED\n",
       "2   BLUE\n",
       "3  BLACK\n",
       "4   BLUE"
      ]
     },
     "execution_count": 28,
     "metadata": {},
     "output_type": "execute_result"
    }
   ],
   "source": [
    "color_responses.head()"
   ]
  },
  {
   "cell_type": "code",
   "execution_count": 29,
   "id": "66ffdfb8",
   "metadata": {
    "scrolled": false
   },
   "outputs": [
    {
     "data": {
      "text/plain": [
       "Colors   \n",
       "BLUE         16\n",
       "BLACK        14\n",
       "WHITE         6\n",
       "PURPLE        4\n",
       "GREEN         3\n",
       "RED           3\n",
       "YELLOW        3\n",
       "PINK          2\n",
       "BROWN         1\n",
       "NEON          1\n",
       "TEAL          1\n",
       "TURQUOISE     1\n",
       "dtype: int64"
      ]
     },
     "execution_count": 29,
     "metadata": {},
     "output_type": "execute_result"
    }
   ],
   "source": [
    "#the data looks much cleaner now\n",
    "color_responses.value_counts()"
   ]
  },
  {
   "cell_type": "code",
   "execution_count": 30,
   "id": "78107e3b",
   "metadata": {},
   "outputs": [],
   "source": [
    "#re-group or replace colors such as teal, turquoise etc. with  their parent/primary colors\n",
    "color_responses.replace({'TEAL': 'GREEN', 'TURQUOISE': 'BLUE','PINK':'RED','NEON':'ORANGE'}, inplace=True)"
   ]
  },
  {
   "cell_type": "code",
   "execution_count": 31,
   "id": "5566ed22",
   "metadata": {},
   "outputs": [
    {
     "data": {
      "text/plain": [
       "Colors    9\n",
       "dtype: int64"
      ]
     },
     "execution_count": 31,
     "metadata": {},
     "output_type": "execute_result"
    }
   ],
   "source": [
    "#we've cleaned the colors data from having 22 unique inputs to just 9 \n",
    "color_responses.nunique()"
   ]
  },
  {
   "cell_type": "code",
   "execution_count": 32,
   "id": "9bba3df0",
   "metadata": {},
   "outputs": [
    {
     "data": {
      "text/plain": [
       "Colors\n",
       "BLUE      17\n",
       "BLACK     14\n",
       "WHITE      6\n",
       "RED        5\n",
       "GREEN      4\n",
       "PURPLE     4\n",
       "YELLOW     3\n",
       "BROWN      1\n",
       "ORANGE     1\n",
       "dtype: int64"
      ]
     },
     "execution_count": 32,
     "metadata": {},
     "output_type": "execute_result"
    }
   ],
   "source": [
    "color_responses.value_counts()"
   ]
  },
  {
   "cell_type": "code",
   "execution_count": 33,
   "id": "3ed72aae",
   "metadata": {},
   "outputs": [
    {
     "data": {
      "text/plain": [
       "<AxesSubplot:xlabel='Colors', ylabel='count'>"
      ]
     },
     "execution_count": 33,
     "metadata": {},
     "output_type": "execute_result"
    },
    {
     "data": {
      "image/png": "[encoded data removed]",
      "text/plain": [
       "<Figure size 432x288 with 1 Axes>"
      ]
     },
     "metadata": {
      "needs_background": "light"
     },
     "output_type": "display_data"
    }
   ],
   "source": [
    "#use countplot to visualize it\n",
    "plot_=sns.countplot(x='Colors',data=color_responses)\n",
    "plot_.set_xticklabels(plot_.get_xticklabels(),rotation=90)\n",
    "plot_"
   ]
  },
  {
   "cell_type": "code",
   "execution_count": 34,
   "id": "5c83c04e",
   "metadata": {},
   "outputs": [
    {
     "data": {
      "text/plain": [
       "<AxesSubplot:xlabel='Colors', ylabel='count'>"
      ]
     },
     "execution_count": 34,
     "metadata": {},
     "output_type": "execute_result"
    },
    {
     "data": {
      "image/png": "[encoded data removed]",
      "text/plain": [
       "<Figure size 432x288 with 1 Axes>"
      ]
     },
     "metadata": {
      "needs_background": "light"
     },
     "output_type": "display_data"
    }
   ],
   "source": [
    "#rearrage this bar graph using order argumant to tell python to sort it in descending order as per value_counts()\n",
    "plot_=sns.countplot(x='Colors',data=color_responses,order = color_responses['Colors'].value_counts().index)\n",
    "plot_.set_xticklabels(plot_.get_xticklabels(),rotation=90)\n",
    "plot_"
   ]
  },
  {
   "cell_type": "code",
   "execution_count": 35,
   "id": "3240ca22",
   "metadata": {},
   "outputs": [
    {
     "data": {
      "text/plain": [
       "<AxesSubplot:xlabel='Colors', ylabel='count'>"
      ]
     },
     "execution_count": 35,
     "metadata": {},
     "output_type": "execute_result"
    },
    {
     "data": {
      "image/png": "[encoded data removed]",
      "text/plain": [
       "<Figure size 432x288 with 1 Axes>"
      ]
     },
     "metadata": {},
     "output_type": "display_data"
    }
   ],
   "source": [
    "'''\n",
    "the graph above looks much more readble, however the labels and the bar colors can be confusing. Let's change that by \n",
    "specifying the color palette to use. Python recognizes common colors with their keywords. For other colors you will have\n",
    "to input the hex code\n",
    "'''\n",
    "sns.set_style(\"darkgrid\")\n",
    "plot_=sns.countplot(x='Colors',data=color_responses,order = color_responses['Colors'].value_counts().index, \\\n",
    "                   palette=['blue','black','white','red','purple','green','yellow','orange','brown'])\n",
    "plot_.set_xticklabels(plot_.get_xticklabels(),rotation=90)\n",
    "plot_"
   ]
  },
  {
   "cell_type": "code",
   "execution_count": null,
   "id": "050f4523",
   "metadata": {},
   "outputs": [],
   "source": []
  }
 ],
 "metadata": {
  "kernelspec": {
   "display_name": "Python 3",
   "language": "python",
   "name": "python3"
  },
  "language_info": {
   "codemirror_mode": {
    "name": "ipython",
    "version": 3
   },
   "file_extension": ".py",
   "mimetype": "text/x-python",
   "name": "python",
   "nbconvert_exporter": "python",
   "pygments_lexer": "ipython3",
   "version": "3.8.8"
  }
 },
 "nbformat": 4,
 "nbformat_minor": 5
}
